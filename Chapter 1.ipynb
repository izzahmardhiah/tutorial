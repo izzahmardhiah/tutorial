{
 "cells": [
  {
   "cell_type": "code",
   "execution_count": 3,
   "id": "2abf9591",
   "metadata": {},
   "outputs": [
    {
     "name": "stdout",
     "output_type": "stream",
     "text": [
      "hello world\n",
      "15\n"
     ]
    }
   ],
   "source": [
    "print(\"hello world\")\n",
    "print(3*5)"
   ]
  },
  {
   "cell_type": "code",
   "execution_count": 4,
   "id": "9b5fa316",
   "metadata": {},
   "outputs": [
    {
     "name": "stdout",
     "output_type": "stream",
     "text": [
      "0.5\n",
      "1\n",
      "5.0\n",
      "42.540042248725975\n",
      "8\n"
     ]
    }
   ],
   "source": [
    "print(1/2)\n",
    "print(10%3)\n",
    "print(13.0//2.5) #floor division\n",
    "print(5.5 ** 2.2) #exponential\n",
    "print(round(7.5))"
   ]
  },
  {
   "cell_type": "markdown",
   "id": "103cba4d",
   "metadata": {},
   "source": [
    "### Formatting"
   ]
  },
  {
   "cell_type": "code",
   "execution_count": 5,
   "id": "1fafd18d",
   "metadata": {},
   "outputs": [
    {
     "name": "stdout",
     "output_type": "stream",
     "text": [
      "12.100000000000001\n",
      "12.10\n"
     ]
    }
   ],
   "source": [
    "print(5.5 * 2.2)\n",
    "print(format(5.5 * 2.2, '.2f'))"
   ]
  },
  {
   "cell_type": "markdown",
   "id": "51b01b52",
   "metadata": {},
   "source": [
    "### Data Types"
   ]
  },
  {
   "cell_type": "code",
   "execution_count": 6,
   "id": "6ee4e068",
   "metadata": {},
   "outputs": [
    {
     "name": "stdout",
     "output_type": "stream",
     "text": [
      "<class 'float'>\n",
      "10\n",
      "-7.3\n",
      "<class 'int'> <class 'float'>\n",
      "<class 'float'>\n"
     ]
    }
   ],
   "source": [
    "print(type(10.))\n",
    "print(int(10.))\n",
    "b = -10\n",
    "c = 2.7\n",
    "print(b+c)\n",
    "print(type(b), type(c))\n",
    "print(type(b+c))"
   ]
  },
  {
   "cell_type": "markdown",
   "id": "ad721f74",
   "metadata": {},
   "source": [
    "### Address\n",
    "Same value variables share the same address"
   ]
  },
  {
   "cell_type": "code",
   "execution_count": 7,
   "id": "c25856d1",
   "metadata": {},
   "outputs": [
    {
     "name": "stdout",
     "output_type": "stream",
     "text": [
      "2615315360048\n",
      "2615315360048\n",
      "2615315360080\n"
     ]
    }
   ],
   "source": [
    "x = y = 1\n",
    "z = 2\n",
    "print(id(x))\n",
    "print(id(y))\n",
    "print(id(z))"
   ]
  },
  {
   "cell_type": "markdown",
   "id": "8a8a3c0c",
   "metadata": {},
   "source": [
    "### Swap Values"
   ]
  },
  {
   "cell_type": "code",
   "execution_count": 8,
   "id": "ae6fa075",
   "metadata": {},
   "outputs": [
    {
     "name": "stdout",
     "output_type": "stream",
     "text": [
      "7 1\n"
     ]
    }
   ],
   "source": [
    "x = 1\n",
    "y = 7\n",
    "x,y = y,x\n",
    "print(x, y)"
   ]
  },
  {
   "cell_type": "code",
   "execution_count": 9,
   "id": "a61a0824",
   "metadata": {},
   "outputs": [
    {
     "name": "stdout",
     "output_type": "stream",
     "text": [
      "65\n",
      "oleh oleh Malaysia oleh \n"
     ]
    }
   ],
   "source": [
    "print(ord('A'))\n",
    "a = 'oleh '\n",
    "print(a*2 + 'Malaysia ' + a)"
   ]
  },
  {
   "cell_type": "code",
   "execution_count": 10,
   "id": "6c3d9ce9",
   "metadata": {},
   "outputs": [
    {
     "name": "stdout",
     "output_type": "stream",
     "text": [
      "e\n",
      "he\n",
      "llo\n"
     ]
    }
   ],
   "source": [
    "h = 'hello'\n",
    "print(h[-4])\n",
    "print(h[:-3])\n",
    "print(h[-3:])"
   ]
  },
  {
   "cell_type": "code",
   "execution_count": 11,
   "id": "eceb56cc",
   "metadata": {},
   "outputs": [
    {
     "name": "stdout",
     "output_type": "stream",
     "text": [
      "Variable   Type     Data/Info\n",
      "-----------------------------\n",
      "a          str      oleh \n",
      "b          int      -10\n",
      "c          float    2.7\n",
      "h          str      hello\n",
      "x          int      7\n",
      "y          int      1\n",
      "z          int      2\n"
     ]
    }
   ],
   "source": [
    "%whos"
   ]
  },
  {
   "cell_type": "markdown",
   "id": "06943b6f",
   "metadata": {},
   "source": [
    "### Strings"
   ]
  },
  {
   "cell_type": "code",
   "execution_count": 21,
   "id": "be1b640c",
   "metadata": {},
   "outputs": [
    {
     "name": "stdout",
     "output_type": "stream",
     "text": [
      "32\n",
      "4\n",
      "-1\n",
      "4\n"
     ]
    },
    {
     "data": {
      "text/plain": [
       "1"
      ]
     },
     "execution_count": 21,
     "metadata": {},
     "output_type": "execute_result"
    }
   ],
   "source": [
    "data_name = \"Nur Izzah Mardhiah binti Rashidi\"\n",
    "print(len(data_name))\n",
    "print(data_name.find('Izzah'))\n",
    "print(data_name.find('Hannah'))\n",
    "print(data_name.index('Izzah'))\n",
    "# print(data_name.index('Hannah'))\n",
    "\"test\".find(\"est\")"
   ]
  },
  {
   "cell_type": "code",
   "execution_count": 18,
   "id": "2a55add9",
   "metadata": {},
   "outputs": [
    {
     "name": "stdout",
     "output_type": "stream",
     "text": [
      "You can have data without information, but you cannot have information without data\n"
     ]
    }
   ],
   "source": [
    "data_vs_info = \"You can have data without information, but you cannot have information without data. \\\n",
    "~ Daniel Keys Moran,  science fiction writer.\"\n",
    "print(data_vs_info[:data_vs_info.index('.')])"
   ]
  },
  {
   "cell_type": "code",
   "execution_count": 22,
   "id": "41bf1f06",
   "metadata": {},
   "outputs": [
    {
     "name": "stdout",
     "output_type": "stream",
     "text": [
      "M\n",
      "z\n",
      "4\n",
      "\n"
     ]
    }
   ],
   "source": [
    "s = 'abcdefghijklMnoPqrstuvwxxxxyz'\n",
    "\n",
    "print(min(s)) #smallest item of s\n",
    "print(max(s)) #largest item of s\n",
    "print(s.count('x')) #total number of occurrences of x in s\n",
    "print()"
   ]
  },
  {
   "cell_type": "code",
   "execution_count": 23,
   "id": "bbd7261a",
   "metadata": {},
   "outputs": [
    {
     "name": "stdout",
     "output_type": "stream",
     "text": [
      "    abcdefghijklmnopqrstuvw xxxxyz   \n",
      "    ABCDEFGHIJKLMNOPQRSTUVW XXXXYZ   \n",
      "abcdefghijklMnoPqrstuvw xxxxyz\n",
      "\n",
      "True\n",
      "False\n",
      "False\n"
     ]
    }
   ],
   "source": [
    "s1 = '    abcdefghijklMnoPqrstuvw xxxxyz   '\n",
    "print(s1.lower())\n",
    "print(s1.upper()) #returns the lowercase or uppercase version of the string\n",
    "print(s1.strip()) #returns a string with whitespace removed from the start and end\n",
    "\n",
    "print()\n",
    "print(s.isalpha())  #returns “True” if all characters in the string are alphabets\n",
    "print(s.isdigit())  #returns “True” if all characters in the string are digit\n",
    "print(s.isspace())  #returns “True” if all characters in the string are whitespace characters"
   ]
  },
  {
   "cell_type": "code",
   "execution_count": 24,
   "id": "a2d5b00e",
   "metadata": {},
   "outputs": [
    {
     "name": "stdout",
     "output_type": "stream",
     "text": [
      "\n",
      "True\n",
      "False\n",
      "\n",
      "Java is an interesting language!\n",
      "['Python is ', ' interesting l', 'guage!']\n"
     ]
    }
   ],
   "source": [
    "s2 = 'Python is an interesting language!'\n",
    "print()\n",
    "print(s2.startswith('Python'))  #tests if the string starts with the given other string (case sensitive!)\n",
    "print(s2.endswith('an'))  #tests if the string ends with the given other string\n",
    "print()\n",
    "print(s2.replace('Python', 'Java')) #returns a string where all occurrences of 'old' have been replaced by 'new'\n",
    "print(s2.split('an')) #returns a list of substrings separated by the given delimiter"
   ]
  },
  {
   "cell_type": "code",
   "execution_count": 25,
   "id": "70a97176",
   "metadata": {},
   "outputs": [
    {
     "name": "stdout",
     "output_type": "stream",
     "text": [
      "a1234b1234c\n",
      "1234abc\n"
     ]
    }
   ],
   "source": [
    "s3 = '1234'\n",
    "s4 = 'abc'\n",
    "print(s3.join(s4)) #opposite of split(), joins the elements in the given list together using the string as the delimiter\n",
    "print(s3 + s4)"
   ]
  },
  {
   "cell_type": "code",
   "execution_count": 27,
   "id": "411f5318",
   "metadata": {},
   "outputs": [
    {
     "name": "stdout",
     "output_type": "stream",
     "text": [
      "We were going nearly 130.2 km/hr. But there were 3 cars going faster!\n"
     ]
    },
    {
     "data": {
      "text/plain": [
       "'We were going nearly 130.2 km/hr. But there were 3 cars going faster!'"
      ]
     },
     "execution_count": 27,
     "metadata": {},
     "output_type": "execute_result"
    }
   ],
   "source": [
    "# % operator\n",
    "print(\"We were going nearly %.1f km/hr. But there were %d %s going faster!\"%(130.2, 3, \"cars\"))\n",
    "# format method\n",
    "\"We were going nearly {} km/hr. But there were {} {} going faster!\".format(130.2, 3, \"cars\")"
   ]
  },
  {
   "cell_type": "code",
   "execution_count": 40,
   "id": "2ae93abd",
   "metadata": {},
   "outputs": [],
   "source": [
    "# Define a procedure that finds the index of the second instance of a string in a larger string.\n",
    "def find_second(findin, whattofind):\n",
    "   \n",
    "    first_index = findin.find(whattofind)\n",
    "    second_index = findin.find(whattofind, first_index+1)\n",
    "    third_index = findin.find(whattofind, second_index+1)\n",
    "    \n",
    "    return second_index"
   ]
  },
  {
   "cell_type": "code",
   "execution_count": 41,
   "id": "4c0fa1cb",
   "metadata": {},
   "outputs": [
    {
     "data": {
      "text/plain": [
       "7"
      ]
     },
     "execution_count": 41,
     "metadata": {},
     "output_type": "execute_result"
    }
   ],
   "source": [
    "find_second('dance, dance, dance everyday', 'dance')"
   ]
  },
  {
   "cell_type": "code",
   "execution_count": 44,
   "id": "8515f22b",
   "metadata": {},
   "outputs": [
    {
     "data": {
      "text/plain": [
       "True"
      ]
     },
     "execution_count": 44,
     "metadata": {},
     "output_type": "execute_result"
    }
   ],
   "source": [
    "s = 'my string'\n",
    "s.find('my')\n",
    "s.index('str')\n",
    "'my' in s"
   ]
  },
  {
   "cell_type": "code",
   "execution_count": 45,
   "id": "6d1366c1",
   "metadata": {},
   "outputs": [
    {
     "data": {
      "text/plain": [
       "12"
      ]
     },
     "execution_count": 45,
     "metadata": {},
     "output_type": "execute_result"
    }
   ],
   "source": [
    "sequence = [1,2, None,4,None,5]\n",
    "total = 0\n",
    "\n",
    "for value in sequence:\n",
    "    if value is None:\n",
    "        continue    #skipping the remainder of the block\n",
    "    total += value\n",
    "\n",
    "total"
   ]
  },
  {
   "cell_type": "code",
   "execution_count": 46,
   "id": "7db813db",
   "metadata": {},
   "outputs": [
    {
     "data": {
      "text/plain": [
       "13"
      ]
     },
     "execution_count": 46,
     "metadata": {},
     "output_type": "execute_result"
    }
   ],
   "source": [
    "seq = [1,2,0,4,6,5,2,1]\n",
    "total_until_5 = 0\n",
    "\n",
    "for value in seq:\n",
    "    if value == 5:\n",
    "        break    #exit the loop\n",
    "    total_until_5 += value\n",
    "\n",
    "total_until_5"
   ]
  },
  {
   "cell_type": "code",
   "execution_count": null,
   "id": "55c804bb",
   "metadata": {},
   "outputs": [],
   "source": []
  }
 ],
 "metadata": {
  "kernelspec": {
   "display_name": "Python 3 (ipykernel)",
   "language": "python",
   "name": "python3"
  },
  "language_info": {
   "codemirror_mode": {
    "name": "ipython",
    "version": 3
   },
   "file_extension": ".py",
   "mimetype": "text/x-python",
   "name": "python",
   "nbconvert_exporter": "python",
   "pygments_lexer": "ipython3",
   "version": "3.9.13"
  }
 },
 "nbformat": 4,
 "nbformat_minor": 5
}
